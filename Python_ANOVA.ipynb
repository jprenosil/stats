{
  "nbformat": 4,
  "nbformat_minor": 0,
  "metadata": {
    "colab": {
      "name": "Python ANOVA.ipynb",
      "version": "0.3.2",
      "provenance": [],
      "include_colab_link": true
    },
    "kernelspec": {
      "name": "python3",
      "display_name": "Python 3"
    }
  },
  "cells": [
    {
      "cell_type": "markdown",
      "metadata": {
        "id": "view-in-github",
        "colab_type": "text"
      },
      "source": [
        "<a href=\"https://colab.research.google.com/github/jprenosil/stats/blob/master/Python_ANOVA.ipynb\" target=\"_parent\"><img src=\"https://colab.research.google.com/assets/colab-badge.svg\" alt=\"Open In Colab\"/></a>"
      ]
    },
    {
      "metadata": {
        "id": "3U-pdRHIhqd2",
        "colab_type": "code",
        "colab": {}
      },
      "cell_type": "code",
      "source": [
        "import numpy as np\n",
        "import pandas as pd\n",
        "import matplotlib\n",
        "\n",
        "import statsmodels.api as sm"
      ],
      "execution_count": 0,
      "outputs": []
    },
    {
      "metadata": {
        "id": "XS9HG7cQZCTu",
        "colab_type": "text"
      },
      "cell_type": "markdown",
      "source": [
        "Process created to import data from Google Sheet. Google account here is linked, currently, to email address. The file used here is called 'ANOVA data'"
      ]
    },
    {
      "metadata": {
        "id": "5e6Vx75no-f_",
        "colab_type": "code",
        "colab": {}
      },
      "cell_type": "code",
      "source": [
        "from google.colab import auth\n",
        "auth.authenticate_user()\n",
        "\n",
        "import gspread\n",
        "from oauth2client.client import GoogleCredentials\n",
        "\n",
        "gc = gspread.authorize(GoogleCredentials.get_application_default())\n",
        "\n",
        "worksheet = gc.open('ANOVA data').sheet1\n",
        "\n",
        "# get_all_values gives a list of rows.\n",
        "rows = worksheet.get_all_values()\n",
        "\n",
        "#Commented out here, if data needs to be viewed\n",
        "#print(rows)\n",
        "\n",
        "# Convert to a DataFrame and render.\n",
        "import pandas as pd\n",
        "pd.DataFrame.from_records(rows)"
      ],
      "execution_count": 0,
      "outputs": []
    },
    {
      "metadata": {
        "id": "4hrxbIENZpHJ",
        "colab_type": "text"
      },
      "cell_type": "markdown",
      "source": [
        "An assumption of ANOVA is that the data is normally distributed. We have the Shapiro-Wilk test below. We will also add the K-S test and add some logic based on the number of samples. S-W is used when we have small samples."
      ]
    },
    {
      "metadata": {
        "id": "1cI9s43Kwk6m",
        "colab_type": "code",
        "outputId": "9b5dff81-8867-43e8-8905-0c3521e657ee",
        "colab": {
          "base_uri": "https://localhost:8080/",
          "height": 52
        }
      },
      "cell_type": "code",
      "source": [
        "# Shapiro-Wilk Test\n",
        "from numpy.random import seed\n",
        "from numpy.random import randn\n",
        "from scipy.stats import shapiro\n",
        "#import data\n",
        "data = rows\n",
        "# SW normality test\n",
        "stat, p = shapiro(data)\n",
        "print('Statistics=%.3f, p=%.3f' % (stat, p))\n",
        "# results and interpretation\n",
        "alpha = 0.05\n",
        "if p > alpha:\n",
        "\tprint('Sample looks nnormally distributed (fail to reject H0)')\n",
        "else:\n",
        "\tprint('Sample does not look normally distributed (reject H0)')\n"
      ],
      "execution_count": 0,
      "outputs": [
        {
          "output_type": "stream",
          "text": [
            "Statistics=0.955, p=0.232\n",
            "Sample looks nnormally distributed (fail to reject H0)\n"
          ],
          "name": "stdout"
        }
      ]
    },
    {
      "metadata": {
        "id": "3x0zuklxTIEV",
        "colab_type": "code",
        "colab": {}
      },
      "cell_type": "code",
      "source": [
        ""
      ],
      "execution_count": 0,
      "outputs": []
    }
  ]
}
